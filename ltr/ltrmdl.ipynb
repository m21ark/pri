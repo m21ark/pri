{
 "cells": [
  {
   "cell_type": "code",
   "execution_count": 1,
   "metadata": {},
   "outputs": [
    {
     "name": "stderr",
     "output_type": "stream",
     "text": [
      "c:\\Users\\ricar\\AppData\\Local\\Programs\\Python\\Python39\\lib\\site-packages\\requests\\__init__.py:109: RequestsDependencyWarning: urllib3 (2.0.7) or chardet (None)/charset_normalizer (3.1.0) doesn't match a supported version!\n",
      "  warnings.warn(\n"
     ]
    },
    {
     "name": "stdout",
     "output_type": "stream",
     "text": [
      "[{'Name': 'Kiko Goat', '[features]': 'queryMatchName=0.0,queryMatchGenus=0.0,queryMatchClass=0.0,queryMatchOrigin=0.0,queryMatchFun_Fact=0.0,queryMatchMigratory=0.0,queryMatchText=1.04024,originalScore=249.89532'}, {'Name': 'Asiatic Black Bear', '[features]': 'queryMatchName=0.0,queryMatchGenus=0.0,queryMatchClass=0.0,queryMatchOrigin=0.0,queryMatchFun_Fact=0.0,queryMatchMigratory=0.0,queryMatchText=1.1510327,originalScore=3.2045345'}, {'Name': 'Pea Puffer', '[features]': 'queryMatchName=0.0,queryMatchGenus=0.0,queryMatchClass=0.0,queryMatchOrigin=0.0,queryMatchFun_Fact=0.0,queryMatchMigratory=0.0,queryMatchText=1.0891392,originalScore=3.2302675'}, {'Name': 'Bobcat', '[features]': 'queryMatchName=0.0,queryMatchGenus=0.0,queryMatchClass=0.0,queryMatchOrigin=0.0,queryMatchFun_Fact=0.0,queryMatchMigratory=0.0,queryMatchText=1.132777,originalScore=3.140967'}, {'Name': 'Eastern Woodrat', '[features]': 'queryMatchName=0.0,queryMatchGenus=0.0,queryMatchClass=0.0,queryMatchOrigin=0.0,queryMatchFun_Fact=0.0,queryMatchMigratory=0.0,queryMatchText=1.0639154,originalScore=3.1362593'}, {'Name': 'Chimpanzee', '[features]': 'queryMatchName=0.0,queryMatchGenus=0.0,queryMatchClass=0.0,queryMatchOrigin=0.0,queryMatchFun_Fact=0.0,queryMatchMigratory=0.0,queryMatchText=1.0858204,originalScore=3.106716'}, {'Name': 'Pictus Catfish', '[features]': 'queryMatchName=0.0,queryMatchGenus=0.0,queryMatchClass=0.0,queryMatchOrigin=0.0,queryMatchFun_Fact=0.0,queryMatchMigratory=0.0,queryMatchText=1.0963567,originalScore=3.0754867'}, {'Name': 'Blobfish', '[features]': 'queryMatchName=0.0,queryMatchGenus=0.0,queryMatchClass=0.0,queryMatchOrigin=0.0,queryMatchFun_Fact=0.0,queryMatchMigratory=0.0,queryMatchText=1.0867572,originalScore=3.0479167'}, {'Name': 'Goliath Frog', '[features]': 'queryMatchName=0.0,queryMatchGenus=0.0,queryMatchClass=0.0,queryMatchOrigin=0.0,queryMatchFun_Fact=0.0,queryMatchMigratory=0.0,queryMatchText=1.0449221,originalScore=3.0891495'}, {'Name': 'Comet Moth', '[features]': 'queryMatchName=0.0,queryMatchGenus=0.0,queryMatchClass=0.0,queryMatchOrigin=0.0,queryMatchFun_Fact=0.0,queryMatchMigratory=0.0,queryMatchText=1.0772785,originalScore=3.0284033'}, {'Name': 'Rainbow Shark', '[features]': 'queryMatchName=0.0,queryMatchGenus=0.0,queryMatchClass=0.0,queryMatchOrigin=0.0,queryMatchFun_Fact=0.0,queryMatchMigratory=0.0,queryMatchText=1.024837,originalScore=3.074511'}, {'Name': 'Zebra', '[features]': 'queryMatchName=0.0,queryMatchGenus=0.0,queryMatchClass=0.0,queryMatchOrigin=0.0,queryMatchFun_Fact=0.0,queryMatchMigratory=0.0,queryMatchText=1.0957234,originalScore=2.9915252'}, {'Name': 'Uguisu', '[features]': 'queryMatchName=0.0,queryMatchGenus=0.0,queryMatchClass=0.0,queryMatchOrigin=0.0,queryMatchFun_Fact=0.0,queryMatchMigratory=0.0,queryMatchText=1.0812292,originalScore=3.0033221'}, {'Name': 'Neon Tetra', '[features]': 'queryMatchName=0.0,queryMatchGenus=0.0,queryMatchClass=0.0,queryMatchOrigin=0.0,queryMatchFun_Fact=0.0,queryMatchMigratory=0.0,queryMatchText=1.0280484,originalScore=3.05107'}, {'Name': 'Strawberry Hermit Crab', '[features]': 'queryMatchName=0.0,queryMatchGenus=0.0,queryMatchClass=0.0,queryMatchOrigin=0.0,queryMatchFun_Fact=0.0,queryMatchMigratory=0.0,queryMatchText=1.04511,originalScore=3.0259588'}, {'Name': 'Cactus Moth', '[features]': 'queryMatchName=0.0,queryMatchGenus=0.0,queryMatchClass=0.0,queryMatchOrigin=0.0,queryMatchFun_Fact=0.0,queryMatchMigratory=0.0,queryMatchText=1.115593,originalScore=2.9536972'}, {'Name': 'African Palm Civet', '[features]': 'queryMatchName=0.0,queryMatchGenus=0.0,queryMatchClass=0.0,queryMatchOrigin=0.0,queryMatchFun_Fact=0.0,queryMatchMigratory=0.0,queryMatchText=1.1026621,originalScore=2.9649706'}, {'Name': 'Discus', '[features]': 'queryMatchName=0.0,queryMatchGenus=0.0,queryMatchClass=0.0,queryMatchOrigin=0.0,queryMatchFun_Fact=0.0,queryMatchMigratory=0.0,queryMatchText=1.0194361,originalScore=3.0244086'}, {'Name': 'Baboon', '[features]': 'queryMatchName=0.0,queryMatchGenus=0.0,queryMatchClass=0.0,queryMatchOrigin=0.0,queryMatchFun_Fact=0.0,queryMatchMigratory=0.0,queryMatchText=1.107005,originalScore=2.911548'}, {'Name': 'Sarcosuchus', '[features]': 'queryMatchName=0.0,queryMatchGenus=0.0,queryMatchClass=0.0,queryMatchOrigin=0.0,queryMatchFun_Fact=0.0,queryMatchMigratory=0.0,queryMatchText=1.0457224,originalScore=2.9630733'}, {'Name': 'Mouse Deer Chevrotain', '[features]': 'queryMatchName=0.0,queryMatchGenus=0.0,queryMatchClass=0.0,queryMatchOrigin=0.0,queryMatchFun_Fact=0.0,queryMatchMigratory=0.0,queryMatchText=1.0638013,originalScore=2.9388542'}, {'Name': 'Aye Aye', '[features]': 'queryMatchName=0.0,queryMatchGenus=0.0,queryMatchClass=0.0,queryMatchOrigin=0.0,queryMatchFun_Fact=0.0,queryMatchMigratory=0.0,queryMatchText=1.0797771,originalScore=2.9104743'}, {'Name': 'North American Black Bear', '[features]': 'queryMatchName=0.0,queryMatchGenus=0.0,queryMatchClass=0.0,queryMatchOrigin=0.0,queryMatchFun_Fact=0.0,queryMatchMigratory=0.0,queryMatchText=1.095892,originalScore=2.8831193'}, {'Name': 'Hawaiian Crow', '[features]': 'queryMatchName=0.0,queryMatchGenus=0.0,queryMatchClass=0.0,queryMatchOrigin=0.0,queryMatchFun_Fact=0.0,queryMatchMigratory=0.0,queryMatchText=1.0595652,originalScore=2.915512'}, {'Name': 'Spixs Macaw', '[features]': 'queryMatchName=0.0,queryMatchGenus=0.0,queryMatchClass=0.0,queryMatchOrigin=0.0,queryMatchFun_Fact=0.0,queryMatchMigratory=0.0,queryMatchText=1.0413264,originalScore=2.9324327'}, {'Name': 'Eyelash Viper', '[features]': 'queryMatchName=0.0,queryMatchGenus=0.0,queryMatchClass=0.0,queryMatchOrigin=0.0,queryMatchFun_Fact=0.0,queryMatchMigratory=0.0,queryMatchText=1.042551,originalScore=2.9236665'}, {'Name': 'African Forest Elephant', '[features]': 'queryMatchName=0.0,queryMatchGenus=0.0,queryMatchClass=0.0,queryMatchOrigin=0.0,queryMatchFun_Fact=0.0,queryMatchMigratory=0.0,queryMatchText=1.0280484,originalScore=2.9019122'}, {'Name': 'Proboscis Monkey', '[features]': 'queryMatchName=0.0,queryMatchGenus=0.0,queryMatchClass=0.0,queryMatchOrigin=0.0,queryMatchFun_Fact=0.0,queryMatchMigratory=0.0,queryMatchText=1.0539852,originalScore=2.8612857'}, {'Name': 'Indri', '[features]': 'queryMatchName=0.0,queryMatchGenus=0.0,queryMatchClass=0.0,queryMatchOrigin=0.0,queryMatchFun_Fact=0.0,queryMatchMigratory=0.0,queryMatchText=1.0415828,originalScore=2.8733516'}, {'Name': 'Clouded Leopard', '[features]': 'queryMatchName=0.0,queryMatchGenus=0.0,queryMatchClass=0.0,queryMatchOrigin=0.0,queryMatchFun_Fact=0.0,queryMatchMigratory=0.0,queryMatchText=1.0867572,originalScore=2.8211458'}]\n"
     ]
    }
   ],
   "source": [
    "import requests\n",
    "\n",
    "def send_solr_request(q):\n",
    "    url = \"http://localhost:8983/solr/animals/query\"\n",
    "    \n",
    "    formatted_query = f\"'{q}'\"\n",
    "    # Define the query parameters\n",
    "    params = {\n",
    "        'q': q,\n",
    "        \"defType\": \"edismax\",\n",
    "        \"qf\": \"Name^2.5 Features^2.0 Fun_Fact^2.0 Diet^2.0 Text^1.5 Features^2.0 Behavior^2.0\",\n",
    "        \"pf\": \"Name^2.5 Features^2.0 Fun_Fact^2.0 Diet^2.0 Text^1.5 Features^2.0 Behavior^2.0\",\n",
    "        \"mm\": \"3<-25%\",\n",
    "        \"ps\": 5,\n",
    "        'rq': f'{{!ltr model=animals_model efi.text={formatted_query}}}',\n",
    "        'fl': 'id,Name,score,[features]',\n",
    "        \"rows\": \"30\"\n",
    "\n",
    "    }\n",
    "\n",
    "    try:\n",
    "        # Send the HTTP GET request\n",
    "        response = requests.get(url, params=params)\n",
    "\n",
    "        # Check if the request was successful (status code 200)\n",
    "        if response.status_code == 200:\n",
    "            # Print the response content\n",
    "            # print(\"Response:\")\n",
    "            return (response.json())\n",
    "        else:\n",
    "            print(f\"Error: {response.status_code} - {response.text}\")\n",
    "\n",
    "    except requests.RequestException as e:\n",
    "        print(f\"Error: {e}\")\n",
    "\n",
    "def parse_solr_response(response_json):\n",
    "    # Extract the list of animals from the Solr response\n",
    "    animals = []\n",
    "\n",
    "    # Check if 'response' and 'docs' keys exist in the response\n",
    "    if 'response' in response_json and 'docs' in response_json['response']:\n",
    "        for doc in response_json['response']['docs']:\n",
    "            # Check if 'Name' and 'score' keys exist in the document\n",
    "            if 'Name' in doc and 'score' in doc:\n",
    "                animal = {\n",
    "                    'Name': doc['Name'],\n",
    "                    '[features]': doc['[features]']\n",
    "                }\n",
    "                animals.append(animal)\n",
    "\n",
    "    return animals\n",
    "\n",
    "res = send_solr_request('natural habitat')\n",
    "\n",
    "print (parse_solr_response(res))"
   ]
  },
  {
   "cell_type": "code",
   "execution_count": 462,
   "metadata": {},
   "outputs": [],
   "source": [
    "import pandas as pd\n",
    "import json as simplejson\n",
    "\n",
    "queries = [\"Energetic dog breeds suited for hunting\",\n",
    "\"North America animals that like to eat insects\",\n",
    "\"Change the color of their skin, fur or feathers for the purpose of camouflage\",\n",
    "\"Animals that walk in hierarchical groups or herds and how they deal with territory\", \n",
    "\"(NOT Birds) migrate to Mexico or migrate to America\"]\n",
    "\n",
    "for idx, q in enumerate(queries):\n",
    "    res = send_solr_request(q)\n",
    "    animals = parse_solr_response(res)\n",
    "\n",
    "    df = pd.DataFrame(animals)\n",
    "    # df.to_csv('queries/query{0}_results.csv'.format(idx+1), index=False)\n",
    "\n",
    "    # drop every column except the Name \n",
    "    # df = df[df.columns[0:1]]\n",
    "\n",
    "    df['score'] = 0.0\n",
    "\n",
    "    # save the query results to a csv file\n",
    "    # df.to_csv('queries/query{0}_score.csv'.format(idx+1), index=False)"
   ]
  },
  {
   "cell_type": "markdown",
   "metadata": {},
   "source": [
    "\n",
    "### Criteria\n",
    "- 0 - A document that does not match the query.\n",
    "- 1 - A document that vaguely matches the query, is very incomplete (missing important fields, like instructions) and has no reviews. Or has very negative reviews.\n",
    "- 2 - A document that partially matches the query, is incomplete. \n",
    "- 3 - A document that matches the query semantically, is reasonably complete (may miss more than two fields) and has at least one positive review.\n",
    "- 4 - A document that perfectly or almost perfectly matches the query semantically, is complete or missing just one of the fields.\n",
    "- 5 - A document that perfectly matches the query semantically, is complete (the recipe has a full ingredient list, steps and cook time/nutritional information).\n",
    "\n",
    "\n"
   ]
  },
  {
   "cell_type": "code",
   "execution_count": 463,
   "metadata": {},
   "outputs": [],
   "source": [
    "## linear model using svm\n",
    "\n",
    "\n",
    "import pandas as pd\n",
    "import glob\n",
    "\n",
    "result_files = glob.glob(\"queries/*_results_done.csv\")\n",
    "scores_files = glob.glob(\"queries/*_score_done.csv\")\n",
    "\n",
    "result_files.sort()\n",
    "scores_files.sort()\n",
    "\n",
    "inputs = pd.concat((pd.read_csv(file) for file in result_files), ignore_index=True)\n",
    "scores = pd.concat((pd.read_csv(file) for file in scores_files), ignore_index=True)\n",
    "\n",
    "\n",
    "#merge results_files and scores_files into a single data frame called ltr\n",
    "for ind, pair in enumerate(zip(result_files, scores_files)):\n",
    "    result = pd.read_csv(pair[0])\n",
    "    score = pd.read_csv(pair[1])\n",
    "    result['score'] = score['score']\n",
    "    result['Name'] = score['Name']\n",
    "    result.to_csv('global/query{0}_ltr.csv'.format(ind+1), index=False)\n",
    "\n",
    "X = []\n",
    "Y = [entry.score for entry in scores.itertuples()]\n"
   ]
  },
  {
   "cell_type": "code",
   "execution_count": 464,
   "metadata": {},
   "outputs": [
    {
     "name": "stdout",
     "output_type": "stream",
     "text": [
      "[[0.0, 0.0, 0.0, 0.0, 3.622953, 0.0, 5.7944894, 8.691734], [2.7420187, 0.0, 0.0, 0.0, 6.804531, 0.0, 5.6559587, 8.483938], [0.0, 0.0, 0.0, 0.0, 0.0, 0.0, 5.592811, 8.389216], [0.0, 0.0, 0.0, 0.0, 0.0, 0.0, 5.544828, 8.317242], [0.0, 0.0, 0.0, 0.0, 4.1125107, 0.0, 5.5396934, 8.30954], [0.0, 0.0, 0.0, 0.0, 1.9825163, 0.0, 5.4566836, 8.185026], [0.0, 0.0, 0.0, 0.0, 0.0, 0.0, 5.408512, 8.112768], [0.0, 0.0, 0.0, 0.0, 1.8832673, 0.0, 5.3943496, 8.091524], [0.0, 0.0, 0.0, 0.0, 0.0, 0.0, 5.3816624, 8.072494], [0.0, 0.0, 0.0, 0.0, 0.0, 0.0, 5.277225, 7.915838], [0.0, 0.0, 0.0, 0.0, 2.4496305, 0.0, 5.2685533, 7.90283], [0.0, 0.0, 0.0, 0.0, 0.0, 0.0, 5.235448, 7.8531713], [0.0, 0.0, 0.0, 0.0, 4.0866013, 0.0, 5.188687, 7.78303], [3.4102473, 0.0, 0.0, 0.0, 0.0, 0.0, 5.177629, 7.7664433], [0.0, 0.0, 0.0, 0.0, 10.021632, 0.0, 5.1717935, 7.75769], [0.0, 0.0, 0.0, 0.0, 2.159968, 0.0, 5.1588583, 7.738287], [0.0, 0.0, 0.0, 0.0, 0.0, 0.0, 5.156592, 7.7348876], [3.4102473, 0.0, 0.0, 0.0, 1.7868949, 0.0, 5.1440697, 7.716104], [0.0, 0.0, 0.0, 0.0, 2.0688505, 0.0, 5.115437, 7.6731553], [0.0, 0.0, 0.0, 0.0, 4.326821, 0.0, 5.10824, 7.66236], [0.0, 0.0, 0.0, 0.0, 0.0, 0.0, 5.0920978, 7.638147], [0.0, 0.0, 0.0, 0.0, 2.252774, 0.0, 5.080774, 7.621161], [0.0, 0.0, 0.0, 0.0, 0.0, 0.0, 5.0294213, 7.544132], [0.0, 0.0, 0.0, 0.0, 0.0, 0.0, 5.027271, 7.540906], [0.0, 0.0, 0.0, 0.0, 0.0, 0.0, 5.018788, 7.5281816], [0.0, 0.0, 0.0, 0.0, 2.159968, 0.0, 5.0090337, 7.5135503], [0.0, 0.0, 0.0, 0.0, 0.0, 0.0, 5.0080395, 7.512059], [0.0, 0.0, 0.0, 0.0, 1.829464, 0.0, 5.006101, 7.5091515], [0.0, 0.0, 0.0, 0.0, 0.0, 0.0, 4.9945493, 7.491824], [0.0, 0.0, 0.0, 0.0, 0.0, 0.0, 4.961944, 7.442916], [0.0, 0.0, 0.0, 0.0, 0.0, 0.0, 2.6234002, 3.9351003], [0.0, 0.0, 0.0, 0.0, 0.7307947, 0.002040609, 2.5779498, 3.8669248], [0.0, 0.0, 0.0, 0.0, 0.0, 0.0, 2.5545, 3.8317504], [0.0, 0.0, 0.0, 0.0, 0.0, 0.002040609, 2.5117664, 3.7676497], [0.0, 0.0, 0.0, 0.0, 0.7470054, 0.0, 2.5049977, 3.7574966], [0.0, 0.0, 0.0, 0.0, 0.0, 0.002040609, 2.4738755, 3.7108133], [0.0, 0.0, 0.0, 0.0, 3.5417125, 0.0, 2.4733088, 3.709963], [0.0, 0.0, 0.0, 0.0, 0.0, 0.0, 2.4687884, 3.7031827], [0.0, 0.0, 0.0, 0.0, 1.5444056, 0.0, 2.4687238, 3.7030854], [0.0, 0.0, 0.0, 0.0, 5.1527395, 0.0, 2.467215, 3.7008228], [0.0, 0.0, 0.0, 0.0, 3.732815, 0.002040609, 2.4656055, 3.6984081], [0.0, 0.0, 0.0, 0.0, 0.7404356, 0.002040609, 2.4409595, 3.6614394], [0.0, 0.0, 0.0, 0.0, 0.0, 0.002040609, 2.4408524, 3.6612785], [0.0, 0.0, 0.0, 0.0, 1.7117352, 0.002040609, 2.438584, 3.6578763], [0.0, 0.0, 0.0, 0.0, 0.8577457, 0.0, 2.4366565, 3.6549847], [0.0, 0.0, 0.0, 0.0, 0.0, 0.002040609, 2.42641, 3.639615], [0.0, 0.0, 0.0, 0.0, 0.0, 0.0, 2.408087, 3.6121304], [0.0, 0.0, 0.0, 0.0, 1.5771148, 0.002040609, 2.4066324, 3.6099486], [0.0, 0.0, 0.0, 0.0, 0.8403423, 0.0, 2.405729, 3.6085937], [0.0, 0.0, 0.0, 0.0, 0.72763664, 0.0, 2.3969066, 3.5953598], [0.0, 0.0, 0.0, 0.0, 1.9662263, 0.002040609, 2.3909285, 3.5863926], [0.0, 0.0, 0.0, 0.0, 0.7339803, 0.002040609, 2.3752346, 3.5628521], [0.0, 0.0, 0.0, 0.0, 0.0, 0.0, 2.3622203, 3.5433304], [0.0, 0.0, 0.0, 0.0, 0.0, 0.0, 2.3580863, 3.5371294], [0.0, 0.0, 0.0, 0.0, 1.5604982, 0.0, 2.3571868, 3.5357804], [0.0, 0.0, 0.0, 0.0, 3.8617103, 0.0, 2.355752, 3.5336277], [0.0, 0.0, 0.0, 0.0, 0.84643126, 0.0, 2.3546734, 3.53201], [0.0, 0.0, 0.0, 0.0, 0.743706, 0.0, 2.3524327, 3.528649], [0.0, 0.0, 0.0, 0.0, 0.7371938, 0.0, 2.3488832, 3.523325], [0.0, 0.0, 0.0, 0.0, 0.0, 0.002040609, 2.344467, 3.5167003], [0.0, 0.0, 0.0, 0.0, 0.0, 0.0, 5.5451927, 8.317789], [0.0, 0.0, 0.0, 0.0, 0.0, 0.0, 5.2869773, 7.930466], [0.0, 0.0, 0.0, 0.0, 0.0, 0.0, 4.6295996, 6.9443994], [0.0, 0.0, 0.0, 0.0, 0.0, 0.0, 4.4459047, 6.6688566], [0.0, 0.0, 0.0, 0.0, 0.0, 0.0, 4.399166, 6.598749], [0.0, 0.0, 0.0, 0.0, 0.0, 0.0, 4.395287, 6.5929303], [0.0, 0.0, 0.0, 5.818507, 10.14529, 0.0, 4.385359, 6.578038], [0.0, 0.0, 0.0, 0.0, 0.8498543, 0.0, 4.3813453, 6.572018], [0.0, 0.0, 0.0, 0.0, 0.8535589, 0.0, 4.3419843, 6.5129766], [0.0, 0.0, 0.0, 0.0, 0.0, 0.0, 4.339146, 6.5087185], [0.0, 0.0, 0.0, 0.0, 15.807758, 0.0, 4.280205, 6.4203076], [0.0, 0.0, 0.0, 0.0, 1.589841, 0.0, 4.204762, 6.307143], [0.0, 0.0, 0.0, 0.0, 0.9320058, 0.0, 4.1586103, 6.237916], [0.0, 0.0, 0.0, 0.0, 0.0, 0.0, 4.115838, 6.173757], [0.0, 0.0, 0.0, 0.0, 1.7055569, 0.0, 4.095598, 6.1433973], [0.0, 0.0, 0.0, 0.0, 2.6549397, 0.0, 4.0883117, 6.1324673], [0.0, 0.0, 0.0, 0.0, 9.498329, 0.0, 4.084901, 6.127351], [0.0, 0.0, 0.0, 0.0, 0.8461817, 0.0, 4.0417824, 6.0626736], [0.0, 0.0, 0.0, 0.0, 0.0, 0.0, 4.040024, 6.0600357], [0.0, 0.0, 0.0, 0.0, 4.9631815, 0.0, 3.9386911, 5.9080367], [0.0, 0.0, 0.0, 0.0, 2.5255296, 0.0, 3.917764, 5.876646], [9.373534, 0.0, 0.0, 0.0, 1.6802914, 0.0, 3.9024026, 5.853604], [0.0, 0.0, 0.0, 0.0, 3.147156, 0.0, 3.8773918, 5.8160877], [0.0, 0.0, 0.0, 0.0, 6.460094, 0.0, 3.815029, 5.7225432], [0.0, 0.0, 0.0, 0.0, 5.77708, 0.0, 3.8062198, 5.7093296], [0.0, 0.0, 0.0, 0.0, 5.6067214, 0.0, 3.8021193, 5.703179], [0.0, 0.0, 0.0, 0.0, 0.0, 0.0030609134, 3.7612476, 5.6418715], [0.0, 0.0, 0.0, 0.0, 0.0, 0.0030609134, 3.7356365, 5.6034546], [0.0, 0.0, 0.0, 0.0, 0.8461817, 0.0, 3.7255669, 5.5883503], [0.0, 0.0, 0.0, 0.0, 3.2789202, 0.0, 3.7175565, 5.5763345], [0.0, 0.0, 0.0, 0.0, 0.0, 0.0, 7.290997, 10.936496], [0.0, 0.0, 0.0, 0.0, 0.0, 0.0, 6.25274, 9.37911], [0.0, 0.0, 0.0, 0.0, 0.0, 0.0, 5.6602135, 8.49032], [0.0, 0.0, 0.0, 0.0, 0.0, 0.0, 5.654212, 8.481318], [0.0, 0.0, 0.0, 0.0, 1.77098, 0.0, 5.3561897, 8.034284], [0.0, 0.0, 0.0, 0.0, 0.3765256, 0.0, 5.1371217, 7.7056823], [0.0, 0.0, 0.0, 0.0, 0.0, 0.0, 5.05675, 7.5851245], [0.0, 0.0, 0.0, 0.0, 1.219549, 0.0, 5.041184, 7.5617757], [0.0, 0.0, 0.0, 0.0, 6.516106, 0.0, 4.968803, 7.4532037], [0.0, 0.0, 0.0, 0.0, 4.2353454, 0.0, 4.906206, 7.3593097], [0.0, 0.0, 0.0, 0.0, 0.0, 0.0, 4.8026056, 7.2039084], [0.0, 0.0, 0.0, 0.0, 0.0, 0.0, 4.790543, 7.1858144], [0.0, 0.0, 0.0, 0.0, 0.0, 0.0, 4.778278, 7.167417], [0.0, 0.0, 0.0, 0.0, 0.9400326, 0.0, 4.7349143, 7.1023717], [0.0, 0.0, 0.0, 0.0, 1.9998418, 0.0, 4.7269664, 7.09045], [0.0, 0.0, 0.0, 0.0, 0.0, 0.0, 4.66802, 7.0020294], [0.0, 0.0, 0.0, 0.0, 0.0, 0.0, 4.567856, 6.8517838], [0.0, 0.0, 0.0, 0.0, 0.0, 0.0, 4.5044074, 6.7566104], [0.0, 0.0, 0.0, 0.0, 1.9805464, 0.0, 4.481084, 6.7216253], [0.0, 0.0, 0.0, 0.0, 3.220338, 0.0, 4.450762, 6.6761427], [0.0, 0.0, 0.0, 0.0, 2.055843, 0.0, 4.3480616, 6.5220923], [0.0, 0.0, 0.0, 0.0, 3.1076746, 0.0, 4.331635, 6.4974527], [0.0, 0.0, 0.0, 0.0, 3.2772453, 0.0, 4.3174763, 6.4762144], [0.0, 0.0, 0.0, 0.0, 0.0, 0.0, 4.309997, 6.4649954], [0.0, 0.0, 0.0, 0.0, 0.0, 0.0, 4.3079405, 6.461911], [0.0, 0.0, 0.0, 0.0, 1.2980266, 0.0, 4.2459283, 6.3688927], [0.0, 0.0, 0.0, 0.0, 1.0529089, 0.0, 4.2249722, 6.3374586], [0.0, 0.0, 0.0, 0.0, 0.0, 0.0, 4.171444, 6.257166], [0.0, 0.0, 0.0, 0.0, 1.2834918, 0.0, 4.167766, 6.251649], [0.0, 0.0, 0.0, 0.0, 7.5864735, 0.0, 4.0948563, 6.1422844]]\n"
     ]
    }
   ],
   "source": [
    "def get_features(entry):\n",
    "    return [float(feature.split(\"=\")[1]) for feature in entry._2.split(\",\")]\n",
    "\n",
    "\n",
    "for entry in inputs.itertuples():\n",
    "\n",
    "    X.append(get_features(entry))\n",
    "\n",
    "print(X)"
   ]
  },
  {
   "cell_type": "code",
   "execution_count": 465,
   "metadata": {},
   "outputs": [],
   "source": [
    "\n",
    "\n",
    "from sklearn.preprocessing import StandardScaler\n",
    "from sklearn.model_selection import train_test_split\n",
    "from sklearn import svm, linear_model\n",
    "from sklearn.metrics import r2_score\n",
    "\n",
    "scaler = StandardScaler()\n",
    "\n",
    "scaler.fit(X)\n",
    "X = scaler.fit_transform(X)\n",
    "\n",
    "(train_x,\n",
    " test_x,\n",
    " train_y,\n",
    " test_y) = train_test_split(X, Y, test_size=0.5)\n",
    "\n",
    " \n",
    "# scaler.fit(X)\n",
    "# X = scaler.fit_transform(X)\n",
    "# best_random_state = None\n",
    "# best_r2_score = -1\n",
    "\n",
    "# for random_state in range(0, 100):\n",
    "#     # Split the data using the current random state\n",
    "#     train_x, test_x, train_y, test_y = train_test_split(X, Y, test_size=0.20, random_state=random_state)\n",
    "\n",
    "#     # Perform any necessary preprocessing steps\n",
    "#     scaler = StandardScaler()\n",
    "#     scaler.fit(train_x)\n",
    "#     train_x = scaler.transform(train_x)\n",
    "#     test_x = scaler.transform(test_x)\n",
    "\n",
    "#     # Train your model\n",
    "#     model =  svm.LinearSVR()  # Replace YourModel with the actual model you are using\n",
    "#     model.fit(train_x, train_y)\n",
    "\n",
    "#     # Make predictions on the test set\n",
    "#     predictions = model.predict(test_x)\n",
    "\n",
    "#     # Evaluate the model using a suitable metric (e.g., R-squared score)\n",
    "#     r2 = r2_score(test_y, predictions)\n",
    "\n",
    "#     # Update the best random state if necessary\n",
    "#     if r2 > best_r2_score:\n",
    "#         best_r2_score = r2\n",
    "#         best_random_state = random_state\n",
    "\n",
    "# print(\"Best Random State:\", best_random_state)\n",
    "# print(\"Best R-squared Score:\", best_r2_score)\n",
    "\n"
   ]
  },
  {
   "cell_type": "code",
   "execution_count": 466,
   "metadata": {},
   "outputs": [
    {
     "data": {
      "text/plain": [
       "-0.1008676046736896"
      ]
     },
     "execution_count": 466,
     "metadata": {},
     "output_type": "execute_result"
    }
   ],
   "source": [
    "from sklearn import svm, linear_model\n",
    "from sklearn.metrics import r2_score\n",
    "\n",
    "linearSVM = svm.LinearSVR()\n",
    "lienarReg = linear_model.LinearRegression()\n",
    "\n",
    "linearSVM.fit(train_x, train_y)\n",
    "lienarReg.fit(train_x, train_y)\n",
    "\n",
    "pred_svm = linearSVM.predict(test_x)\n",
    "pred_reg = lienarReg.predict(test_x)\n",
    "\n",
    "r2_score(test_y, pred_svm)"
   ]
  },
  {
   "cell_type": "code",
   "execution_count": 467,
   "metadata": {},
   "outputs": [
    {
     "data": {
      "text/plain": [
       "LinearRegression()"
      ]
     },
     "execution_count": 467,
     "metadata": {},
     "output_type": "execute_result"
    }
   ],
   "source": [
    "# fit with all data\n",
    "linearSVM = svm.LinearSVR()\n",
    "lienarReg = linear_model.LinearRegression()\n",
    "\n",
    "linearSVM.fit(X, Y)\n",
    "lienarReg.fit(X, Y)\n"
   ]
  },
  {
   "cell_type": "code",
   "execution_count": 468,
   "metadata": {},
   "outputs": [
    {
     "name": "stdout",
     "output_type": "stream",
     "text": [
      "[-0.41950684  0.          0.         -0.42148981  0.16951237  0.43675539\n",
      "  0.08351342  0.0835134 ]\n"
     ]
    }
   ],
   "source": [
    "## print the scores of the features in the model\n",
    "print(linearSVM.coef_)"
   ]
  },
  {
   "cell_type": "code",
   "execution_count": 469,
   "metadata": {},
   "outputs": [
    {
     "name": "stdout",
     "output_type": "stream",
     "text": [
      "[     -0.21549788      -0.00000737      -0.00001332      -0.35084062\n",
      "       0.08501219       0.420853    319814.86613979 -319814.73861028]\n",
      "Linear Regression R-squared Score: -0.04896168982116622\n"
     ]
    }
   ],
   "source": [
    "import numpy as np\n",
    "\n",
    "np.set_printoptions(suppress=True)\n",
    "\n",
    "print(lienarReg.coef_)\n",
    "print(\"Linear Regression R-squared Score:\", r2_score(test_y, pred_reg))\n"
   ]
  },
  {
   "cell_type": "code",
   "execution_count": 470,
   "metadata": {},
   "outputs": [],
   "source": [
    "\n",
    "\n",
    "def send_ltr_request(q):\n",
    "    url = \"http://localhost:8983/solr/animals/query\"\n",
    "    \n",
    "    # Format the query\n",
    "    formatted_query = f\"'{q}'\"\n",
    "\n",
    "    # Define the query parameters\n",
    "    params = {\n",
    "        'q': q,\n",
    "        'df': 'Text',\n",
    "        'rq': f'{{!ltr model=animals_model efi.text={formatted_query}}}',\n",
    "        'fl': 'id,Name,score,[features]',\n",
    "        \"rows\": \"30\"\n",
    "    }\n",
    "\n",
    "    try:\n",
    "        # Send the HTTP GET request\n",
    "        response = requests.get(url, params=params)\n",
    "\n",
    "        # Check if the request was successful (status code 200)\n",
    "        if response.status_code == 200:\n",
    "            # Print the response content\n",
    "            # print(\"Response:\")\n",
    "            return (response.json())\n",
    "        else:\n",
    "            print(f\"Error: {response.status_code} - {response.text}\")\n",
    "\n",
    "    except requests.RequestException as e:\n",
    "        print(f\"Error: {e}\")"
   ]
  },
  {
   "cell_type": "code",
   "execution_count": 471,
   "metadata": {},
   "outputs": [
    {
     "name": "stdout",
     "output_type": "stream",
     "text": [
      "Freshwater Eel\n",
      "Black Footed Ferret\n",
      "California Kingsnake\n",
      "Rodents\n",
      "Deer Mouse\n",
      "Orinoco Crocodile\n",
      "Mule Deer\n",
      "Kinkajou\n",
      "Black Bass\n",
      "White Marlin\n",
      "Bighorn Sheep\n",
      "Monarch Butterfly\n",
      "Spanish Mackerel\n",
      "Atlantic Salmon\n",
      "Humboldt Squid\n",
      "Newt\n",
      "Goliath Grouper\n",
      "Salmon Shark\n",
      "Needlefish\n",
      "Yellowtail Snapper\n",
      "White Crappie\n",
      "Camel Spider\n",
      "Sockeye Salmon\n",
      "Eyelash Viper\n",
      "Hogfish\n",
      "Steelhead Salmon\n",
      "Rainbow Grasshopper Dactylotum Bicolor\n",
      "Mangrove Snapper\n",
      "Leopard Lizard\n",
      "Oleander Hawk Moth\n"
     ]
    }
   ],
   "source": [
    "queries[4] = \"-Class:Aves migrate to Mexico or migrate to America\"\n",
    "send_ltr_request_ = send_ltr_request(\"-Class:Aves migrate to Mexico or migrate to America\")\n",
    "parsed_response = parse_solr_response(send_ltr_request_)\n",
    "\n",
    "for i in parsed_response:\n",
    "    print(i['Name'])"
   ]
  },
  {
   "cell_type": "code",
   "execution_count": 472,
   "metadata": {},
   "outputs": [
    {
     "name": "stdout",
     "output_type": "stream",
     "text": [
      "Energetic dog breeds suited for hunting\n",
      "North America animals that like to eat insects\n",
      "Change the color of their skin, fur or feathers for the purpose of camouflage\n"
     ]
    },
    {
     "name": "stdout",
     "output_type": "stream",
     "text": [
      "Animals that walk in hierarchical groups or herds and how they deal with territory\n",
      "-Class:Aves migrate to Mexico or migrate to America\n"
     ]
    }
   ],
   "source": [
    "\n",
    "## calculate to a csv file the precision at n, Recall at n, f-measures at n\n",
    "\n",
    "def calculate_precision_at_n(relevant_query, parsed_response, n):\n",
    "    relevant = 0\n",
    "    for i in range(n):\n",
    "        if parsed_response[i]['Name'] in relevant_query:\n",
    "            relevant += 1\n",
    "    return relevant/n\n",
    "\n",
    "def calculate_recall_at_n(relevant_query, parsed_response, n):\n",
    "    relevant = 0\n",
    "    for i in range(n):\n",
    "        if parsed_response[i]['Name'] in relevant_query:\n",
    "            relevant += 1\n",
    "    return relevant/len(relevant_query)\n",
    "\n",
    "def calculate_f_measure_at_n(relevant_query, parsed_response, n):\n",
    "    precision = calculate_precision_at_n(relevant_query, parsed_response, n)\n",
    "    recall = calculate_recall_at_n(relevant_query, parsed_response, n)\n",
    "    if (precision+recall) == 0:\n",
    "        return 0\n",
    "    return (2*precision*recall)/(precision+recall)\n",
    "\n",
    "for idx, q in enumerate(queries):\n",
    "    print(q)\n",
    "    res = send_ltr_request(q)\n",
    "    parsed_response = parse_solr_response(res)\n",
    "    relevant_query = []\n",
    "    with open(f\"metrics/metrics_relevant_q{idx+1}.txt\", 'r') as file:\n",
    "        relevant_query = [line.strip() for line in file]\n",
    "\n",
    "    ## calculate precision at n(30), recall and f-measure from 1 to 30 and save to a csv file\n",
    "    precision = []\n",
    "    recall = []\n",
    "    f_measure = []\n",
    "    N = []\n",
    "    for i in range(1, 31):\n",
    "        N.append(i)\n",
    "        precision.append(calculate_precision_at_n(relevant_query, parsed_response, i))\n",
    "        recall.append(calculate_recall_at_n(relevant_query, parsed_response, i))\n",
    "        f_measure.append(calculate_f_measure_at_n(relevant_query, parsed_response, i))\n",
    "    \n",
    "    df = pd.DataFrame({'N': N,'Precision': precision, 'Recall': recall, 'F-Measure': f_measure})\n",
    "    df.to_csv('metrics/query{0}_metrics.csv'.format(idx+1), index=False)\n"
   ]
  },
  {
   "cell_type": "code",
   "execution_count": 4,
   "metadata": {},
   "outputs": [],
   "source": [
    "import pandas as pd\n",
    "import json as simplejson\n",
    "\n",
    "queries = [\"Energetic dog breeds suited for hunting\",\n",
    "\"North America animals that like to eat insects\",\n",
    "\"Change the color of their skin, fur or feathers for the purpose of camouflage\",\n",
    "\"Animals that walk in hierarchical groups or herds and how they deal with territory\", \n",
    "\"-Class:Aves migrate to Mexico or migrate to America\"]\n",
    "\n",
    "for idx, q in enumerate(queries):\n",
    "    res = send_solr_request(q)\n",
    "    animals = parse_solr_response(res)\n",
    "\n",
    "    df = pd.DataFrame(animals)\n",
    "    df.to_csv('global/query{0}_results.csv'.format(idx+1), index=False)\n",
    "\n",
    "    # drop every column except the Name \n",
    "    # df = df[df.columns[0:1]]\n",
    "\n",
    "    df['score'] = 0.0\n",
    "\n",
    "    # save the query results to a csv file\n",
    "    # df.to_csv('queries/query{0}_score.csv'.format(idx+1), index=False)\n"
   ]
  }
 ],
 "metadata": {
  "kernelspec": {
   "display_name": "Python 3",
   "language": "python",
   "name": "python3"
  },
  "language_info": {
   "codemirror_mode": {
    "name": "ipython",
    "version": 3
   },
   "file_extension": ".py",
   "mimetype": "text/x-python",
   "name": "python",
   "nbconvert_exporter": "python",
   "pygments_lexer": "ipython3",
   "version": "3.9.1"
  }
 },
 "nbformat": 4,
 "nbformat_minor": 2
}
