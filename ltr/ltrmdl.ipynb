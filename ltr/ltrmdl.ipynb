{
 "cells": [
  {
   "cell_type": "code",
   "execution_count": 102,
   "metadata": {},
   "outputs": [
    {
     "name": "stdout",
     "output_type": "stream",
     "text": [
      "[{'Name': 'Kiko Goat', '[features]': 'queryMatchName=0.0,queryMatchGenus=0.0,queryMatchClass=0.0,queryMatchOrigin=0.0,queryMatchFun_Fact=0.0,queryMatchMigratory=0.0,queryMatchText=0.9966099,originalScore=249.84853'}, {'Name': 'Pea Puffer', '[features]': 'queryMatchName=0.0,queryMatchGenus=0.0,queryMatchClass=0.0,queryMatchOrigin=0.0,queryMatchFun_Fact=0.0,queryMatchMigratory=0.0,queryMatchText=1.053854,originalScore=3.1191216'}, {'Name': 'Asiatic Black Bear', '[features]': 'queryMatchName=0.0,queryMatchGenus=0.0,queryMatchClass=0.0,queryMatchOrigin=0.0,queryMatchFun_Fact=0.0,queryMatchMigratory=0.0,queryMatchText=1.1208955,originalScore=3.0755384'}, {'Name': 'Bobcat', '[features]': 'queryMatchName=0.0,queryMatchGenus=0.0,queryMatchClass=0.0,queryMatchOrigin=0.0,queryMatchFun_Fact=0.0,queryMatchMigratory=0.0,queryMatchText=1.1003227,originalScore=3.0078945'}, {'Name': 'Eastern Woodrat', '[features]': 'queryMatchName=0.0,queryMatchGenus=0.0,queryMatchClass=0.0,queryMatchOrigin=0.0,queryMatchFun_Fact=0.0,queryMatchMigratory=0.0,queryMatchText=1.0219314,originalScore=3.0021877'}, {'Name': 'Pictus Catfish', '[features]': 'queryMatchName=0.0,queryMatchGenus=0.0,queryMatchClass=0.0,queryMatchOrigin=0.0,queryMatchFun_Fact=0.0,queryMatchMigratory=0.0,queryMatchText=1.0656236,originalScore=2.9610007'}, {'Name': 'Chimpanzee', '[features]': 'queryMatchName=0.0,queryMatchGenus=0.0,queryMatchClass=0.0,queryMatchOrigin=0.0,queryMatchFun_Fact=0.0,queryMatchMigratory=0.0,queryMatchText=1.0439029,originalScore=2.9600494'}, {'Name': 'Goliath Frog', '[features]': 'queryMatchName=0.0,queryMatchGenus=0.0,queryMatchClass=0.0,queryMatchOrigin=0.0,queryMatchFun_Fact=0.0,queryMatchMigratory=0.0,queryMatchText=1.0034794,originalScore=2.9582791'}, {'Name': 'Rainbow Shark', '[features]': 'queryMatchName=0.0,queryMatchGenus=0.0,queryMatchClass=0.0,queryMatchOrigin=0.0,queryMatchFun_Fact=0.0,queryMatchMigratory=0.0,queryMatchText=0.9832782,originalScore=2.9498348'}, {'Name': 'Neon Tetra', '[features]': 'queryMatchName=0.0,queryMatchGenus=0.0,queryMatchClass=0.0,queryMatchOrigin=0.0,queryMatchFun_Fact=0.0,queryMatchMigratory=0.0,queryMatchText=0.9848913,originalScore=2.9176426'}, {'Name': 'Comet Moth', '[features]': 'queryMatchName=0.0,queryMatchGenus=0.0,queryMatchClass=0.0,queryMatchOrigin=0.0,queryMatchFun_Fact=0.0,queryMatchMigratory=0.0,queryMatchText=1.0435419,originalScore=2.9055624'}, {'Name': 'Blobfish', '[features]': 'queryMatchName=0.0,queryMatchGenus=0.0,queryMatchClass=0.0,queryMatchOrigin=0.0,queryMatchFun_Fact=0.0,queryMatchMigratory=0.0,queryMatchText=1.0469215,originalScore=2.9013686'}, {'Name': 'Discus', '[features]': 'queryMatchName=0.0,queryMatchGenus=0.0,queryMatchClass=0.0,queryMatchOrigin=0.0,queryMatchFun_Fact=0.0,queryMatchMigratory=0.0,queryMatchText=0.9743547,originalScore=2.8851337'}, {'Name': 'Strawberry Hermit Crab', '[features]': 'queryMatchName=0.0,queryMatchGenus=0.0,queryMatchClass=0.0,queryMatchOrigin=0.0,queryMatchFun_Fact=0.0,queryMatchMigratory=0.0,queryMatchText=0.99626637,originalScore=2.86524'}, {'Name': 'Uguisu', '[features]': 'queryMatchName=0.0,queryMatchGenus=0.0,queryMatchClass=0.0,queryMatchOrigin=0.0,queryMatchFun_Fact=0.0,queryMatchMigratory=0.0,queryMatchText=1.0439497,originalScore=2.8650248'}, {'Name': 'Zebra', '[features]': 'queryMatchName=0.0,queryMatchGenus=0.0,queryMatchClass=0.0,queryMatchOrigin=0.0,queryMatchFun_Fact=0.0,queryMatchMigratory=0.0,queryMatchText=1.0554329,originalScore=2.8328347'}, {'Name': 'Sarcosuchus', '[features]': 'queryMatchName=0.0,queryMatchGenus=0.0,queryMatchClass=0.0,queryMatchOrigin=0.0,queryMatchFun_Fact=0.0,queryMatchMigratory=0.0,queryMatchText=1.0066714,originalScore=2.8286605'}, {'Name': 'African Palm Civet', '[features]': 'queryMatchName=0.0,queryMatchGenus=0.0,queryMatchClass=0.0,queryMatchOrigin=0.0,queryMatchFun_Fact=0.0,queryMatchMigratory=0.0,queryMatchText=1.0672306,originalScore=2.8211794'}, {'Name': 'Cactus Moth', '[features]': 'queryMatchName=0.0,queryMatchGenus=0.0,queryMatchClass=0.0,queryMatchOrigin=0.0,queryMatchFun_Fact=0.0,queryMatchMigratory=0.0,queryMatchText=1.0812598,originalScore=2.806882'}, {'Name': 'Mouse Deer Chevrotain', '[features]': 'queryMatchName=0.0,queryMatchGenus=0.0,queryMatchClass=0.0,queryMatchOrigin=0.0,queryMatchFun_Fact=0.0,queryMatchMigratory=0.0,queryMatchText=1.0254824,originalScore=2.7960718'}, {'Name': 'Eyelash Viper', '[features]': 'queryMatchName=0.0,queryMatchGenus=0.0,queryMatchClass=0.0,queryMatchOrigin=0.0,queryMatchFun_Fact=0.0,queryMatchMigratory=0.0,queryMatchText=1.0013857,originalScore=2.7795622'}, {'Name': 'Spixs Macaw', '[features]': 'queryMatchName=0.0,queryMatchGenus=0.0,queryMatchClass=0.0,queryMatchOrigin=0.0,queryMatchFun_Fact=0.0,queryMatchMigratory=0.0,queryMatchText=0.9938005,originalScore=2.7663598'}, {'Name': 'Baboon', '[features]': 'queryMatchName=0.0,queryMatchGenus=0.0,queryMatchClass=0.0,queryMatchOrigin=0.0,queryMatchFun_Fact=0.0,queryMatchMigratory=0.0,queryMatchText=1.07019,originalScore=2.756925'}, {'Name': 'African Forest Elephant', '[features]': 'queryMatchName=0.0,queryMatchGenus=0.0,queryMatchClass=0.0,queryMatchOrigin=0.0,queryMatchFun_Fact=0.0,queryMatchMigratory=0.0,queryMatchText=0.9848913,originalScore=2.7548206'}, {'Name': 'Aye Aye', '[features]': 'queryMatchName=0.0,queryMatchGenus=0.0,queryMatchClass=0.0,queryMatchOrigin=0.0,queryMatchFun_Fact=0.0,queryMatchMigratory=0.0,queryMatchText=1.0376709,originalScore=2.7482162'}, {'Name': 'Hawaiian Crow', '[features]': 'queryMatchName=0.0,queryMatchGenus=0.0,queryMatchClass=0.0,queryMatchOrigin=0.0,queryMatchFun_Fact=0.0,queryMatchMigratory=0.0,queryMatchText=1.0121446,originalScore=2.742965'}, {'Name': 'Banana Eel', '[features]': 'queryMatchName=0.0,queryMatchGenus=0.0,queryMatchClass=0.0,queryMatchOrigin=0.0,queryMatchFun_Fact=0.0,queryMatchMigratory=0.0,queryMatchText=0.93192935,originalScore=2.7381434'}, {'Name': 'Common Carp', '[features]': 'queryMatchName=0.0,queryMatchGenus=0.0,queryMatchClass=0.0,queryMatchOrigin=0.0,queryMatchFun_Fact=0.0,queryMatchMigratory=0.0,queryMatchText=0.95685744,originalScore=2.7330282'}, {'Name': 'Northern Bobwhite', '[features]': 'queryMatchName=0.0,queryMatchGenus=0.0,queryMatchClass=0.0,queryMatchOrigin=0.0,queryMatchFun_Fact=0.0,queryMatchMigratory=0.0,queryMatchText=1.0080534,originalScore=2.7324138'}, {'Name': 'Uaru Cichlid', '[features]': 'queryMatchName=0.0,queryMatchGenus=0.0,queryMatchClass=0.0,queryMatchOrigin=0.0,queryMatchFun_Fact=0.0,queryMatchMigratory=0.0,queryMatchText=0.9743547,originalScore=2.71938'}]\n"
     ]
    }
   ],
   "source": [
    "import requests\n",
    "\n",
    "def send_solr_request(q):\n",
    "    url = \"http://localhost:8983/solr/animals/query\"\n",
    "    \n",
    "    formatted_query = f\"'{q}'\"\n",
    "    # Define the query parameters\n",
    "    params = {\n",
    "        'q': q,\n",
    "        \"defType\": \"edismax\",\n",
    "        \"qf\": \"Name^2.5 Features^2.0 Fun_Fact^2.0 Diet^2.0 Text^1.5 Features^2.0 Behavior^2.0\",\n",
    "        \"pf\": \"Name^2.5 Features^2.0 Fun_Fact^2.0 Diet^2.0 Text^1.5 Features^2.0 Behavior^2.0\",\n",
    "        \"mm\": \"3<-25%\",\n",
    "        \"ps\": 5,\n",
    "        'rq': f'{{!ltr model=animals_model efi.text={formatted_query}}}',\n",
    "        'fl': 'id,Name,score,[features]',\n",
    "        \"rows\": \"30\"\n",
    "\n",
    "    }\n",
    "\n",
    "    try:\n",
    "        # Send the HTTP GET request\n",
    "        response = requests.get(url, params=params)\n",
    "\n",
    "        # Check if the request was successful (status code 200)\n",
    "        if response.status_code == 200:\n",
    "            # Print the response content\n",
    "            # print(\"Response:\")\n",
    "            return (response.json())\n",
    "        else:\n",
    "            print(f\"Error: {response.status_code} - {response.text}\")\n",
    "\n",
    "    except requests.RequestException as e:\n",
    "        print(f\"Error: {e}\")\n",
    "\n",
    "def parse_solr_response(response_json):\n",
    "    # Extract the list of animals from the Solr response\n",
    "    animals = []\n",
    "\n",
    "    # Check if 'response' and 'docs' keys exist in the response\n",
    "    if 'response' in response_json and 'docs' in response_json['response']:\n",
    "        for doc in response_json['response']['docs']:\n",
    "            # Check if 'Name' and 'score' keys exist in the document\n",
    "            if 'Name' in doc and 'score' in doc:\n",
    "                animal = {\n",
    "                    'Name': doc['Name'],\n",
    "                    '[features]': doc['[features]']\n",
    "                }\n",
    "                animals.append(animal)\n",
    "\n",
    "    return animals\n",
    "\n",
    "res = send_solr_request('natural habitat')\n",
    "\n",
    "print (parse_solr_response(res))"
   ]
  },
  {
   "cell_type": "code",
   "execution_count": 103,
   "metadata": {},
   "outputs": [],
   "source": [
    "import pandas as pd\n",
    "import json as simplejson\n",
    "\n",
    "queries = [\"Energetic dog breeds suited for hunting\",\n",
    "\"North America animals that like to eat insects\",\n",
    "\"Change the color of their skin, fur or feathers for the purpose of camouflage\",\n",
    "\"Animals that walk in hierarchical groups or herds and how they deal with territory\", \"(NOT Birds) migrate to Mexico or migrate to America\"]\n",
    "\n",
    "for idx, q in enumerate(queries):\n",
    "    res = send_solr_request(q)\n",
    "    animals = parse_solr_response(res)\n",
    "\n",
    "    df = pd.DataFrame(animals)\n",
    "    df.to_csv('queries/query{0}_results.csv'.format(idx+1), index=False)\n",
    "\n",
    "    # drop every column except the Name \n",
    "    df = df[df.columns[0:1]]\n",
    "\n",
    "    df['score'] = 0.0\n",
    "\n",
    "    # save the query results to a csv file\n",
    "    df.to_csv('queries/query{0}_score.csv'.format(idx+1), index=False)"
   ]
  },
  {
   "cell_type": "markdown",
   "metadata": {},
   "source": [
    "\n",
    "### Criteria\n",
    "- 0 - A document that does not match the query.\n",
    "- 1 - A document that vaguely matches the query, is very incomplete (missing important fields, like instructions) and has no reviews. Or has very negative reviews.\n",
    "- 2 - A document that partially matches the query, is incomplete. \n",
    "- 3 - A document that matches the query semantically, is reasonably complete (may miss more than two fields) and has at least one positive review.\n",
    "- 4 - A document that perfectly or almost perfectly matches the query semantically, is complete or missing just one of the fields.\n",
    "- 5 - A document that perfectly matches the query semantically, is complete (the recipe has a full ingredient list, steps and cook time/nutritional information).\n",
    "\n",
    "\n"
   ]
  },
  {
   "cell_type": "code",
   "execution_count": 104,
   "metadata": {},
   "outputs": [
    {
     "ename": "ValueError",
     "evalue": "No objects to concatenate",
     "output_type": "error",
     "traceback": [
      "\u001b[1;31m---------------------------------------------------------------------------\u001b[0m",
      "\u001b[1;31mValueError\u001b[0m                                Traceback (most recent call last)",
      "Cell \u001b[1;32mIn[104], line 13\u001b[0m\n\u001b[0;32m     10\u001b[0m result_files\u001b[38;5;241m.\u001b[39msort()\n\u001b[0;32m     11\u001b[0m scores_files\u001b[38;5;241m.\u001b[39msort()\n\u001b[1;32m---> 13\u001b[0m inputs \u001b[38;5;241m=\u001b[39m \u001b[43mpd\u001b[49m\u001b[38;5;241;43m.\u001b[39;49m\u001b[43mconcat\u001b[49m\u001b[43m(\u001b[49m\u001b[43m(\u001b[49m\u001b[43mpd\u001b[49m\u001b[38;5;241;43m.\u001b[39;49m\u001b[43mread_csv\u001b[49m\u001b[43m(\u001b[49m\u001b[43mfile\u001b[49m\u001b[43m)\u001b[49m\u001b[43m \u001b[49m\u001b[38;5;28;43;01mfor\u001b[39;49;00m\u001b[43m \u001b[49m\u001b[43mfile\u001b[49m\u001b[43m \u001b[49m\u001b[38;5;129;43;01min\u001b[39;49;00m\u001b[43m \u001b[49m\u001b[43mresult_files\u001b[49m\u001b[43m)\u001b[49m\u001b[43m,\u001b[49m\u001b[43m \u001b[49m\u001b[43mignore_index\u001b[49m\u001b[38;5;241;43m=\u001b[39;49m\u001b[38;5;28;43;01mTrue\u001b[39;49;00m\u001b[43m)\u001b[49m\n\u001b[0;32m     14\u001b[0m scores \u001b[38;5;241m=\u001b[39m pd\u001b[38;5;241m.\u001b[39mconcat((pd\u001b[38;5;241m.\u001b[39mread_csv(file) \u001b[38;5;28;01mfor\u001b[39;00m file \u001b[38;5;129;01min\u001b[39;00m scores_files), ignore_index\u001b[38;5;241m=\u001b[39m\u001b[38;5;28;01mTrue\u001b[39;00m)\n\u001b[0;32m     17\u001b[0m \u001b[38;5;66;03m#merge results_files and scores_files into a single data frame called ltr\u001b[39;00m\n",
      "File \u001b[1;32mc:\\Users\\ricar\\AppData\\Local\\Programs\\Python\\Python39\\lib\\site-packages\\pandas\\core\\reshape\\concat.py:372\u001b[0m, in \u001b[0;36mconcat\u001b[1;34m(objs, axis, join, ignore_index, keys, levels, names, verify_integrity, sort, copy)\u001b[0m\n\u001b[0;32m    369\u001b[0m \u001b[38;5;28;01melif\u001b[39;00m copy \u001b[38;5;129;01mand\u001b[39;00m using_copy_on_write():\n\u001b[0;32m    370\u001b[0m     copy \u001b[38;5;241m=\u001b[39m \u001b[38;5;28;01mFalse\u001b[39;00m\n\u001b[1;32m--> 372\u001b[0m op \u001b[38;5;241m=\u001b[39m \u001b[43m_Concatenator\u001b[49m\u001b[43m(\u001b[49m\n\u001b[0;32m    373\u001b[0m \u001b[43m    \u001b[49m\u001b[43mobjs\u001b[49m\u001b[43m,\u001b[49m\n\u001b[0;32m    374\u001b[0m \u001b[43m    \u001b[49m\u001b[43maxis\u001b[49m\u001b[38;5;241;43m=\u001b[39;49m\u001b[43maxis\u001b[49m\u001b[43m,\u001b[49m\n\u001b[0;32m    375\u001b[0m \u001b[43m    \u001b[49m\u001b[43mignore_index\u001b[49m\u001b[38;5;241;43m=\u001b[39;49m\u001b[43mignore_index\u001b[49m\u001b[43m,\u001b[49m\n\u001b[0;32m    376\u001b[0m \u001b[43m    \u001b[49m\u001b[43mjoin\u001b[49m\u001b[38;5;241;43m=\u001b[39;49m\u001b[43mjoin\u001b[49m\u001b[43m,\u001b[49m\n\u001b[0;32m    377\u001b[0m \u001b[43m    \u001b[49m\u001b[43mkeys\u001b[49m\u001b[38;5;241;43m=\u001b[39;49m\u001b[43mkeys\u001b[49m\u001b[43m,\u001b[49m\n\u001b[0;32m    378\u001b[0m \u001b[43m    \u001b[49m\u001b[43mlevels\u001b[49m\u001b[38;5;241;43m=\u001b[39;49m\u001b[43mlevels\u001b[49m\u001b[43m,\u001b[49m\n\u001b[0;32m    379\u001b[0m \u001b[43m    \u001b[49m\u001b[43mnames\u001b[49m\u001b[38;5;241;43m=\u001b[39;49m\u001b[43mnames\u001b[49m\u001b[43m,\u001b[49m\n\u001b[0;32m    380\u001b[0m \u001b[43m    \u001b[49m\u001b[43mverify_integrity\u001b[49m\u001b[38;5;241;43m=\u001b[39;49m\u001b[43mverify_integrity\u001b[49m\u001b[43m,\u001b[49m\n\u001b[0;32m    381\u001b[0m \u001b[43m    \u001b[49m\u001b[43mcopy\u001b[49m\u001b[38;5;241;43m=\u001b[39;49m\u001b[43mcopy\u001b[49m\u001b[43m,\u001b[49m\n\u001b[0;32m    382\u001b[0m \u001b[43m    \u001b[49m\u001b[43msort\u001b[49m\u001b[38;5;241;43m=\u001b[39;49m\u001b[43msort\u001b[49m\u001b[43m,\u001b[49m\n\u001b[0;32m    383\u001b[0m \u001b[43m\u001b[49m\u001b[43m)\u001b[49m\n\u001b[0;32m    385\u001b[0m \u001b[38;5;28;01mreturn\u001b[39;00m op\u001b[38;5;241m.\u001b[39mget_result()\n",
      "File \u001b[1;32mc:\\Users\\ricar\\AppData\\Local\\Programs\\Python\\Python39\\lib\\site-packages\\pandas\\core\\reshape\\concat.py:429\u001b[0m, in \u001b[0;36m_Concatenator.__init__\u001b[1;34m(self, objs, axis, join, keys, levels, names, ignore_index, verify_integrity, copy, sort)\u001b[0m\n\u001b[0;32m    426\u001b[0m     objs \u001b[38;5;241m=\u001b[39m \u001b[38;5;28mlist\u001b[39m(objs)\n\u001b[0;32m    428\u001b[0m \u001b[38;5;28;01mif\u001b[39;00m \u001b[38;5;28mlen\u001b[39m(objs) \u001b[38;5;241m==\u001b[39m \u001b[38;5;241m0\u001b[39m:\n\u001b[1;32m--> 429\u001b[0m     \u001b[38;5;28;01mraise\u001b[39;00m \u001b[38;5;167;01mValueError\u001b[39;00m(\u001b[38;5;124m\"\u001b[39m\u001b[38;5;124mNo objects to concatenate\u001b[39m\u001b[38;5;124m\"\u001b[39m)\n\u001b[0;32m    431\u001b[0m \u001b[38;5;28;01mif\u001b[39;00m keys \u001b[38;5;129;01mis\u001b[39;00m \u001b[38;5;28;01mNone\u001b[39;00m:\n\u001b[0;32m    432\u001b[0m     objs \u001b[38;5;241m=\u001b[39m \u001b[38;5;28mlist\u001b[39m(com\u001b[38;5;241m.\u001b[39mnot_none(\u001b[38;5;241m*\u001b[39mobjs))\n",
      "\u001b[1;31mValueError\u001b[0m: No objects to concatenate"
     ]
    }
   ],
   "source": [
    "## linear model using svm\n",
    "\n",
    "\n",
    "import pandas as pd\n",
    "import glob\n",
    "\n",
    "result_files = glob.glob(\"queries/*_results_done.csv\")\n",
    "scores_files = glob.glob(\"queries/*_score_done.csv\")\n",
    "\n",
    "result_files.sort()\n",
    "scores_files.sort()\n",
    "\n",
    "inputs = pd.concat((pd.read_csv(file) for file in result_files), ignore_index=True)\n",
    "scores = pd.concat((pd.read_csv(file) for file in scores_files), ignore_index=True)\n",
    "\n",
    "\n",
    "#merge results_files and scores_files into a single data frame called ltr\n",
    "for ind, pair in enumerate(zip(result_files, scores_files)):\n",
    "    result = pd.read_csv(pair[0])\n",
    "    score = pd.read_csv(pair[1])\n",
    "    result['score'] = score['score']\n",
    "    result['Name'] = score['Name']\n",
    "    result.to_csv('queries/query{0}_ltr.csv'.format(ind+1), index=False)\n",
    "\n",
    "X = []\n",
    "Y = [entry.score for entry in scores.itertuples()]\n"
   ]
  },
  {
   "cell_type": "code",
   "execution_count": null,
   "metadata": {},
   "outputs": [
    {
     "name": "stdout",
     "output_type": "stream",
     "text": [
      "[[0.0, 0.0, 0.0, 0.0, 1.4237603, 0.0, 0.00018015745, 37.868233], [0.0, 0.0, 0.0, 0.0, 0.0, 0.0, 0.00018014571, 32.29295], [0.0, 0.0, 0.0, 0.0, 1.6601987, 0.0, 0.00018015884, 29.20628], [0.0, 0.0, 0.0, 0.0, 1.2340096, 0.0, 0.0001801561, 28.90858], [0.0, 0.0, 0.0, 0.0, 0.0, 0.0, 0.00018015035, 28.908579], [0.0, 0.0, 0.0, 0.0, 0.0, 0.0, 0.00018014912, 28.908567], [0.0, 0.0, 0.0, 0.0, 0.0, 0.0, 0.00018015054, 3.2834237], [0.0, 0.0, 0.0, 0.0, 0.0, 0.0, 0.00018015305, 3.283338], [0.0, 0.0, 0.0, 0.0, 0.0, 0.0, 0.00018015203, 3.282581], [0.0, 0.0, 0.0, 0.0, 0.0, 0.0, 0.00018016063, 3.2770407], [0.0, 0.0, 0.0, 0.0, 1.4096501, 0.0, 0.00018013385, 3.261525], [0.0, 0.0, 0.0, 0.0, 1.3897494, 0.0, 0.0001801641, 3.2610865], [0.0, 0.0, 0.0, 0.0, 0.0, 0.0, 0.00018015072, 3.2610571], [0.0, 0.0, 0.0, 0.0, 0.0, 0.0, 0.000180155, 3.260994], [0.0, 0.0, 0.0, 0.0, 0.0, 0.0, 0.00018015906, 3.2606509], [0.0, 0.0, 0.0, 0.0, 0.0, 0.0, 0.00018013557, 3.2606373], [0.0, 0.0, 0.0, 0.0, 1.6063626, 0.0, 0.00018015473, 3.2606113], [0.0, 0.0, 0.0, 0.0, 1.207109, 0.0, 0.0001801548, 3.2601647], [0.0, 0.0, 0.0, 0.0, 0.0, 0.0, 0.00018015978, 3.2597384], [0.0, 0.0, 0.0, 0.0, 0.0, 0.0, 0.00018016089, 3.2584074], [0.0, 0.0, 0.0, 0.0, 1.2340096, 0.0, 0.00018015063, 3.2449908], [0.0, 0.0, 0.0, 0.0, 1.1908836, 0.0, 0.00018014805, 3.2449358], [0.0, 0.0, 0.0, 0.0, 0.0, 0.0, 0.00018014129, 3.2446606], [0.0, 0.0, 0.0, 0.0, 0.0, 0.0, 0.00018014412, 3.244575], [0.0, 0.0, 0.0, 0.0, 0.0, 0.0, 0.00018015371, 3.2443163], [0.0, 0.0, 0.0, 0.0, 0.0, 0.0, 0.00018015435, 3.243786], [0.0, 0.0, 0.0, 0.0, 0.0, 0.0, 0.00018015788, 3.2437775], [0.0, 0.0, 0.0, 0.0, 1.3897494, 0.0, 0.00018015578, 3.2437444], [0.0, 0.0, 0.0, 0.0, 1.3682864, 0.0, 0.00018014891, 3.2431922], [0.0, 0.0, 0.0, 0.0, 0.0, 0.0, 0.00018014933, 3.2431922], [0.0, 0.0, 0.0, 0.0, 0.0, 0.0, 0.00018014, 25.227043], [3.2959082, 0.0, 0.0, 0.0, 1.5862467, 0.0, 0.46814373, 24.576006], [0.0, 0.0, 0.0, 0.0, 0.0, 0.0, 0.47172692, 22.982853], [0.0, 0.0, 0.0, 0.0, 0.0, 0.0, 0.00018015796, 22.915293], [0.0, 0.0, 0.0, 0.0, 0.0, 0.0, 0.47172695, 13.900512], [0.0, 0.0, 0.0, 0.0, 0.0, 0.0, 0.44968084, 12.163811], [0.0, 0.0, 0.0, 0.0, 0.0, 0.0, 0.44413725, 0.03566224], [0.0, 0.0, 0.0, 0.0, 0.0, 0.0, 0.44879636, 0.0355852], [0.0, 0.0, 0.0, 0.0, 0.0, 0.0, 0.46166745, 0.035584625], [3.364737, 0.0, 0.0, 0.0, 0.0, 0.0, 0.46042532, 0.035584554], [0.0, 0.0, 0.0, 0.0, 0.0, 0.0, 0.0001801592, 0.03557886], [0.0, 0.0, 0.0, 0.0, 0.0, 0.0, 0.47786373, 0.03557416], [0.0, 0.0, 0.0, 0.0, 0.0, 0.0, 0.47376367, 0.03556573], [0.0, 0.0, 0.0, 0.0, 1.4417654, 0.0, 0.48247537, 0.03556152], [0.0, 0.0, 0.0, 0.0, 0.0, 0.0, 0.44879636, 0.035561256], [0.0, 0.0, 0.0, 0.0, 0.0, 0.0, 0.44938564, 0.035561126], [0.0, 0.0, 0.0, 0.0, 1.2479146, 0.0, 0.46726486, 0.035559766], [0.0, 0.0, 0.0, 0.0, 0.0, 0.0, 0.00018016194, 0.035554606], [0.0, 0.0, 0.0, 0.0, 0.0, 0.0, 0.41566718, 0.035554502], [0.0, 0.0, 0.0, 0.0, 0.0, 0.0, 0.46615112, 0.03554866], [0.0, 0.0, 0.0, 0.0, 0.0, 0.0, 0.4490908, 0.035546172], [0.0, 0.0, 0.0, 0.0, 0.0, 0.0, 0.47466424, 0.035543445], [0.0, 0.0, 0.0, 0.0, 1.2444091, 0.0, 0.47691515, 0.035540417], [0.0, 0.0, 0.0, 0.0, 0.0, 0.0, 0.47376367, 0.03553949], [0.0, 0.0, 0.0, 0.0, 0.0, 0.0, 0.41415828, 0.035538804], [0.0, 0.0, 0.0, 0.0, 0.0, 0.0, 0.46125266, 0.035536207], [0.0, 0.0, 0.0, 0.0, 0.0, 0.0, 0.41415828, 0.03553552], [3.9469635, 0.0, 0.0, 0.0, 0.0, 0.0, 0.4677438, 0.035527132], [0.0, 0.0, 0.0, 0.0, 0.0, 0.0, 0.46145996, 0.035524115], [0.0, 0.0, 0.0, 0.0, 1.6169965, 0.0, 0.00018011066, 0.035522003], [0.0, 0.0, 0.0, 0.0, 6.931395, 0.0, 0.41871816, 2.905566], [0.0, 0.0, 0.0, 0.0, 0.0, 0.0, 0.46726486, 2.9030335], [0.0, 0.0, 0.0, 0.0, 0.0, 0.0, 0.00018002508, 2.8992796], [0.0, 0.0, 0.0, 0.0, 0.0, 0.0, 0.00018012388, 2.899277], [0.0, 0.0, 0.0, 0.0, 0.0, 0.0, 0.46187514, 2.8987775], [3.9469635, 0.0, 0.0, 0.0, 0.0, 0.0, 0.4677438, 2.8977165], [0.0, 0.0, 0.0, 0.0, 1.2693697, 0.0, 0.41871813, 2.8966823], [0.0, 0.0, 0.0, 0.0, 1.184515, 0.0, 0.47598454, 2.8965118], [0.0, 0.0, 0.0, 0.0, 0.0, 0.0, 0.4166792, 2.8928547], [0.0, 0.0, 0.0, 0.0, 0.0, 0.0, 0.45027244, 2.891831], [0.0, 0.0, 0.0, 0.0, 1.2305816, 0.0, 0.00018014963, 2.8904831], [0.0, 0.0, 0.0, 0.0, 0.0, 0.0, 0.45116273, 2.8877745], [0.0, 0.0, 0.0, 0.0, 0.0, 0.0, 0.00018007211, 2.8869824], [0.0, 0.0, 0.0, 0.0, 0.0, 0.0, 0.47146705, 2.8868148], [0.0, 0.0, 0.0, 0.0, 0.0, 0.0, 0.41667923, 2.885345], [0.0, 0.0, 0.0, 0.0, 0.0, 0.0, 0.42051867, 2.8851588], [3.364737, 0.0, 0.0, 0.0, 0.0, 0.0, 0.45086563, 2.8816698], [0.0, 0.0, 0.0, 0.0, 1.607414, 0.0, 0.41820657, 2.881171], [0.0, 0.0, 0.0, 0.0, 1.4096501, 0.0, 0.47622102, 2.8806133], [0.0, 0.0, 0.0, 0.0, 0.0, 0.0, 0.47845754, 2.876442], [0.0, 0.0, 0.0, 0.0, 0.0, 0.0, 0.45027244, 2.8761292], [0.0, 0.0, 0.0, 0.0, 0.0, 0.0, 0.00018012252, 2.8759987], [0.0, 0.0, 0.0, 0.0, 1.1908836, 0.0, 0.45056883, 2.8759139], [0.0, 0.0, 0.0, 0.0, 0.0, 0.0, 0.475701, 2.8753157], [3.8992047, 0.0, 0.0, 0.0, 1.2340096, 0.0, 0.46814367, 2.8752189], [0.0, 0.0, 0.0, 0.0, 0.0, 0.0, 0.47889325, 2.874877], [0.0, 0.0, 0.0, 0.0, 0.0, 0.0, 0.4736544, 2.874637], [0.0, 0.0, 0.0, 0.0, 1.5590512, 0.0, 0.46726486, 2.87255], [0.0, 0.0, 0.0, 0.0, 0.0, 0.0, 0.46208298, 2.8693326], [0.0, 0.0, 0.0, 0.0, 0.0, 0.0, 0.47830895, 2.8659606], [0.0, 0.0, 0.0, 0.0, 0.0, 0.0, 0.44997647, 6.472636], [0.0, 0.0, 0.0, 0.0, 0.0, 0.0, 0.4490908, 6.3257113], [0.0, 0.0, 0.0, 0.0, 0.0, 0.0, 0.00018014848, 6.04709], [0.0, 0.0, 0.0, 0.0, 0.0, 0.0, 0.00018015367, 6.039974], [0.0, 0.0, 0.0, 0.0, 1.430129, 0.0, 0.46774384, 5.9774036], [0.0, 0.0, 0.0, 0.0, 0.0, 0.0, 0.44997644, 5.9772515], [0.0, 0.0, 0.0, 0.0, 1.6169965, 0.0, 0.00018016006, 5.9707522], [0.0, 0.0, 0.0, 0.0, 0.0, 0.0, 0.46742442, 5.9615374], [0.0, 0.0, 0.0, 0.0, 0.0, 0.0, 0.00018012617, 5.8517046], [0.0, 0.0, 0.0, 0.0, 0.0, 0.0, 0.00018014763, 5.836571], [0.0, 0.0, 0.0, 0.0, 1.4164109, 0.0, 0.00018013903, 5.8362103], [0.0, 0.0, 0.0, 0.0, 1.2340096, 0.0, 0.0001801434, 5.835989], [0.0, 0.0, 0.0, 0.0, 0.0, 0.0, 0.00018015775, 5.8287373], [0.0, 0.0, 0.0, 0.0, 0.0, 0.0, 0.44968086, 5.8285623], [0.0, 0.0, 0.0, 0.0, 0.0, 0.0, 0.44968084, 5.828397], [0.0, 0.0, 0.0, 0.0, 0.0, 0.0, 0.00018015745, 5.8203573], [0.0, 0.0, 0.0, 0.0, 0.0, 0.0, 0.4171871, 5.8186793], [3.364737, 0.0, 0.0, 0.0, 0.0, 0.0, 0.4490908, 5.811798], [0.0, 0.0, 0.0, 0.0, 0.0, 0.0, 0.00018015881, 5.8048897], [0.0, 0.0, 0.0, 0.0, 1.1658113, 0.0, 0.4161726, 5.803889], [0.0, 0.0, 0.0, 0.0, 0.0, 0.0, 0.46694613, 5.7972016], [0.0, 0.0, 0.0, 0.0, 0.0, 0.0, 0.46063185, 5.7968016], [0.0, 0.0, 0.0, 0.0, 0.0, 0.0, 0.00018014721, 5.3962007], [0.0, 0.0, 0.0, 0.0, 1.4417654, 0.0, 0.46774384, 5.3323164], [0.0, 0.0, 0.0, 0.0, 1.4831644, 0.0, 0.44968086, 5.33029], [0.0, 0.0, 0.0, 0.0, 0.0, 0.0, 0.4490908, 5.3254786], [0.0, 0.0, 0.0, 0.0, 0.0, 0.0, 0.4710777, 5.3249187], [0.0, 0.0, 0.0, 0.0, 0.0, 0.0, 0.00018013704, 5.2060285], [0.0, 0.0, 0.0, 0.0, 0.0, 0.0, 0.00018014078, 5.2026014], [0.0, 0.0, 0.0, 0.0, 0.0, 0.0, 0.46166742, 5.198336]]\n"
     ]
    }
   ],
   "source": [
    "def get_features(entry):\n",
    "    return [float(feature.split(\"=\")[1]) for feature in entry._2.split(\",\")]\n",
    "\n",
    "\n",
    "for entry in inputs.itertuples():\n",
    "\n",
    "    X.append(get_features(entry))\n",
    "\n",
    "print(X)"
   ]
  },
  {
   "cell_type": "code",
   "execution_count": null,
   "metadata": {},
   "outputs": [],
   "source": [
    "\n",
    "\n",
    "from sklearn.preprocessing import StandardScaler\n",
    "from sklearn.model_selection import train_test_split\n",
    "from sklearn import svm, linear_model\n",
    "from sklearn.metrics import r2_score\n",
    "\n",
    "scaler = StandardScaler()\n",
    "\n",
    "scaler.fit(X)\n",
    "X = scaler.fit_transform(X)\n",
    "\n",
    "(train_x,\n",
    " test_x,\n",
    " train_y,\n",
    " test_y) = train_test_split(X, Y, test_size=0.5)\n",
    "\n",
    " \n",
    "# scaler.fit(X)\n",
    "# X = scaler.fit_transform(X)\n",
    "# best_random_state = None\n",
    "# best_r2_score = -1\n",
    "\n",
    "# for random_state in range(0, 100):\n",
    "#     # Split the data using the current random state\n",
    "#     train_x, test_x, train_y, test_y = train_test_split(X, Y, test_size=0.20, random_state=random_state)\n",
    "\n",
    "#     # Perform any necessary preprocessing steps\n",
    "#     scaler = StandardScaler()\n",
    "#     scaler.fit(train_x)\n",
    "#     train_x = scaler.transform(train_x)\n",
    "#     test_x = scaler.transform(test_x)\n",
    "\n",
    "#     # Train your model\n",
    "#     model =  svm.LinearSVR()  # Replace YourModel with the actual model you are using\n",
    "#     model.fit(train_x, train_y)\n",
    "\n",
    "#     # Make predictions on the test set\n",
    "#     predictions = model.predict(test_x)\n",
    "\n",
    "#     # Evaluate the model using a suitable metric (e.g., R-squared score)\n",
    "#     r2 = r2_score(test_y, predictions)\n",
    "\n",
    "#     # Update the best random state if necessary\n",
    "#     if r2 > best_r2_score:\n",
    "#         best_r2_score = r2\n",
    "#         best_random_state = random_state\n",
    "\n",
    "# print(\"Best Random State:\", best_random_state)\n",
    "# print(\"Best R-squared Score:\", best_r2_score)\n",
    "\n"
   ]
  },
  {
   "cell_type": "code",
   "execution_count": null,
   "metadata": {},
   "outputs": [
    {
     "data": {
      "text/plain": [
       "-0.5236871657374884"
      ]
     },
     "execution_count": 60,
     "metadata": {},
     "output_type": "execute_result"
    }
   ],
   "source": [
    "from sklearn import svm, linear_model\n",
    "from sklearn.metrics import r2_score\n",
    "\n",
    "linearSVM = svm.LinearSVR()\n",
    "lienarReg = linear_model.LinearRegression()\n",
    "\n",
    "linearSVM.fit(train_x, train_y)\n",
    "lienarReg.fit(train_x, train_y)\n",
    "\n",
    "pred_svm = linearSVM.predict(test_x)\n",
    "pred_reg = lienarReg.predict(test_x)\n",
    "\n",
    "r2_score(test_y, pred_svm)"
   ]
  },
  {
   "cell_type": "code",
   "execution_count": null,
   "metadata": {},
   "outputs": [],
   "source": [
    "# fit with all data\n",
    "# linearSVM = svm.LinearSVR()\n",
    "# lienarReg = linear_model.LinearRegression()\n",
    "\n",
    "# linearSVM.fit(X, Y)\n",
    "# lienarReg.fit(X, Y)\n"
   ]
  },
  {
   "cell_type": "code",
   "execution_count": null,
   "metadata": {},
   "outputs": [
    {
     "name": "stdout",
     "output_type": "stream",
     "text": [
      "[-0.00522369  0.          0.          0.         -0.02848928  0.\n",
      " -0.93371181  0.01394429]\n"
     ]
    }
   ],
   "source": [
    "## print the scores of the features in the model\n",
    "print(linearSVM.coef_)\n"
   ]
  },
  {
   "cell_type": "code",
   "execution_count": null,
   "metadata": {},
   "outputs": [
    {
     "name": "stdout",
     "output_type": "stream",
     "text": [
      "Linear Regression Coefficients: [-0.01217603  0.          0.          0.          0.04950727  0.\n",
      " -0.27628616 -0.0693916 ]\n",
      "Linear Regression R-squared Score: -0.05083090694282566\n"
     ]
    }
   ],
   "source": [
    "import numpy as np\n",
    "\n",
    "np.set_printoptions(suppress=True)\n",
    "\n",
    "print(\"Linear Regression Coefficients:\", lienarReg.coef_)\n",
    "print(\"Linear Regression R-squared Score:\", r2_score(test_y, pred_reg))\n"
   ]
  },
  {
   "cell_type": "code",
   "execution_count": null,
   "metadata": {},
   "outputs": [],
   "source": [
    "\n",
    "\n",
    "def send_ltr_request(q):\n",
    "    url = \"http://localhost:8983/solr/animals/query\"\n",
    "    \n",
    "    # Format the query\n",
    "    formatted_query = f\"'{q}'\"\n",
    "\n",
    "    # Define the query parameters\n",
    "    params = {\n",
    "        'q': q,\n",
    "        'df': 'Text',\n",
    "        'rq': f'{{!ltr model=animals_model efi.text={formatted_query}}}',\n",
    "        'fl': 'id,Name,score,[features]',\n",
    "        \"rows\": \"30\"\n",
    "    }\n",
    "\n",
    "    try:\n",
    "        # Send the HTTP GET request\n",
    "        response = requests.get(url, params=params)\n",
    "\n",
    "        # Check if the request was successful (status code 200)\n",
    "        if response.status_code == 200:\n",
    "            # Print the response content\n",
    "            # print(\"Response:\")\n",
    "            return (response.json())\n",
    "        else:\n",
    "            print(f\"Error: {response.status_code} - {response.text}\")\n",
    "\n",
    "    except requests.RequestException as e:\n",
    "        print(f\"Error: {e}\")"
   ]
  },
  {
   "cell_type": "code",
   "execution_count": null,
   "metadata": {},
   "outputs": [
    {
     "name": "stdout",
     "output_type": "stream",
     "text": [
      "Saint Berdoodle\n",
      "Havashu\n",
      "Huskador\n",
      "English Toy Terrier\n",
      "Rottsky\n",
      "Parson Russell Terrier\n",
      "Australian Bulldog\n",
      "Havamalt\n",
      "Silken Windhound\n",
      "Chipoo\n",
      "Teacup Chihuahua\n",
      "Beagle\n",
      "Stoat\n",
      "Bordoodle\n",
      "Miniature Pinscher\n",
      "Keeshond\n",
      "Puggle\n",
      "Huskita\n",
      "Irish Wolfhound\n",
      "Cavador\n",
      "Curly Coated Retriever\n",
      "West Highland Terrier\n",
      "Springador\n",
      "Raggle\n",
      "Maltese Mix\n",
      "Doberman Pinscher\n",
      "Landseer Newfoundland\n",
      "Patterdale Terrier\n",
      "Giant Schnoodle\n",
      "Daniff\n"
     ]
    }
   ],
   "source": [
    "send_ltr_request = send_ltr_request('Energetic dog breeds suited for hunting')\n",
    "parsed_response = parse_solr_response(send_ltr_request)\n",
    "\n",
    "for i in parsed_response:\n",
    "    print(i['Name'])"
   ]
  }
 ],
 "metadata": {
  "kernelspec": {
   "display_name": "Python 3",
   "language": "python",
   "name": "python3"
  },
  "language_info": {
   "codemirror_mode": {
    "name": "ipython",
    "version": 3
   },
   "file_extension": ".py",
   "mimetype": "text/x-python",
   "name": "python",
   "nbconvert_exporter": "python",
   "pygments_lexer": "ipython3",
   "version": "3.9.1"
  }
 },
 "nbformat": 4,
 "nbformat_minor": 2
}
